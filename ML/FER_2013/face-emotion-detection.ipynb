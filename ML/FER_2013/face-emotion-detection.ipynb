{
 "cells": [
  {
   "cell_type": "code",
   "execution_count": 5,
   "metadata": {
    "execution": {
     "iopub.execute_input": "2022-03-05T07:52:06.174167Z",
     "iopub.status.busy": "2022-03-05T07:52:06.169043Z",
     "iopub.status.idle": "2022-03-05T07:52:12.823403Z",
     "shell.execute_reply": "2022-03-05T07:52:12.822643Z",
     "shell.execute_reply.started": "2022-03-05T06:54:43.825035Z"
    },
    "papermill": {
     "duration": 6.705142,
     "end_time": "2022-03-05T07:52:12.823594",
     "exception": false,
     "start_time": "2022-03-05T07:52:06.118452",
     "status": "completed"
    },
    "tags": []
   },
   "outputs": [],
   "source": [
    "import numpy as np\n",
    "import pandas as pd \n",
    "from pathlib import Path\n",
    "import tensorflow\n",
    "from tensorflow.keras.preprocessing import image\n",
    "from tensorflow.keras.layers import Conv2D,MaxPooling2D,Dense,Input,Dropout,Flatten,concatenate,AveragePooling2D,BatchNormalization\n",
    "from tensorflow.keras.utils import to_categorical,plot_model\n",
    "from tensorflow.keras.models import Model\n",
    "from tensorflow.keras.preprocessing import image\n",
    "from sklearn.preprocessing import LabelEncoder\n",
    "import matplotlib.pyplot as plt\n",
    "import tensorflow as tf\n",
    "import warnings\n",
    "warnings.filterwarnings(action = 'ignore')\n"
   ]
  },
  {
   "cell_type": "code",
   "execution_count": 6,
   "metadata": {
    "execution": {
     "iopub.execute_input": "2022-03-05T07:52:12.888366Z",
     "iopub.status.busy": "2022-03-05T07:52:12.887631Z",
     "iopub.status.idle": "2022-03-05T07:52:27.145580Z",
     "shell.execute_reply": "2022-03-05T07:52:27.146262Z",
     "shell.execute_reply.started": "2022-03-05T06:54:51.326506Z"
    },
    "papermill": {
     "duration": 14.28172,
     "end_time": "2022-03-05T07:52:27.146488",
     "exception": false,
     "start_time": "2022-03-05T07:52:12.864768",
     "status": "completed"
    },
    "tags": []
   },
   "outputs": [
    {
     "name": "stdout",
     "output_type": "stream",
     "text": [
      "Found 28709 images belonging to 7 classes.\n",
      "Found 7178 images belonging to 7 classes.\n"
     ]
    }
   ],
   "source": [
    "#folder_path = \"dataset\"\n",
    "picture_size  = 128\n",
    "batch_size = 128\n",
    "datagen_train = image.ImageDataGenerator(rescale = 1./255,shear_range = 0.2)\n",
    "datagen_test = image.ImageDataGenerator(rescale = 1./255,shear_range = 0.2)\n",
    "\n",
    "train_set = datagen_train.flow_from_directory(\"dataset/dataset/train\",target_size = (picture_size,picture_size),\n",
    "                                             color_mode = 'grayscale',batch_size = batch_size,class_mode = 'categorical',shuffle = True,\n",
    "                                             )\n",
    "\n",
    "test_set = datagen_test.flow_from_directory(\"dataset/dataset/test\",target_size = (picture_size,picture_size),\n",
    "                                             color_mode = 'grayscale',batch_size = batch_size,class_mode = 'categorical',shuffle = True)"
   ]
  },
  {
   "cell_type": "code",
   "execution_count": 7,
   "metadata": {
    "execution": {
     "iopub.execute_input": "2022-03-05T07:52:27.214178Z",
     "iopub.status.busy": "2022-03-05T07:52:27.213309Z",
     "iopub.status.idle": "2022-03-05T07:52:27.217011Z",
     "shell.execute_reply": "2022-03-05T07:52:27.216486Z",
     "shell.execute_reply.started": "2022-03-05T07:50:15.804036Z"
    },
    "papermill": {
     "duration": 0.02703,
     "end_time": "2022-03-05T07:52:27.217195",
     "exception": false,
     "start_time": "2022-03-05T07:52:27.190165",
     "status": "completed"
    },
    "tags": []
   },
   "outputs": [],
   "source": [
    "def plot_function(history):\n",
    "    fig,ax = plt.subplots(1,2,figsize = (25,5))\n",
    "    ax[0].plot(history.history['loss'],color = 'red',label = 'train_loss')\n",
    "    ax[0].set_title('Loss and val_loss')\n",
    "    ax[0].plot(history.history['val_loss'],color = 'green',label = 'val_loss')\n",
    "    ax[0].legend()\n",
    "    ax[1].plot(history.history['accuracy'],color = 'orange',label = 'train_accuracy')\n",
    "    ax[1].set_title('accuracy and val_accuracy')\n",
    "    ax[1].plot(history.history['val_accuracy'],color = 'black',label = 'val_accuarcy')\n",
    "    ax[1].legend()"
   ]
  },
  {
   "cell_type": "code",
   "execution_count": 8,
   "metadata": {
    "execution": {
     "iopub.execute_input": "2022-03-05T07:52:27.261949Z",
     "iopub.status.busy": "2022-03-05T07:52:27.260578Z",
     "iopub.status.idle": "2022-03-05T07:52:30.292286Z",
     "shell.execute_reply": "2022-03-05T07:52:30.291691Z",
     "shell.execute_reply.started": "2022-03-05T06:55:33.133814Z"
    },
    "papermill": {
     "duration": 3.060859,
     "end_time": "2022-03-05T07:52:30.292458",
     "exception": false,
     "start_time": "2022-03-05T07:52:27.231599",
     "status": "completed"
    },
    "tags": []
   },
   "outputs": [
    {
     "name": "stdout",
     "output_type": "stream",
     "text": [
      "WARNING:tensorflow:From C:\\ProgramData\\Anaconda3\\lib\\site-packages\\tensorflow\\python\\ops\\resource_variable_ops.py:435: colocate_with (from tensorflow.python.framework.ops) is deprecated and will be removed in a future version.\n",
      "Instructions for updating:\n",
      "Colocations handled automatically by placer.\n",
      "WARNING:tensorflow:From C:\\ProgramData\\Anaconda3\\lib\\site-packages\\tensorflow\\python\\keras\\layers\\core.py:143: calling dropout (from tensorflow.python.ops.nn_ops) with keep_prob is deprecated and will be removed in a future version.\n",
      "Instructions for updating:\n",
      "Please use `rate` instead of `keep_prob`. Rate should be set to `rate = 1 - keep_prob`.\n"
     ]
    }
   ],
   "source": [
    "inputs = Input(shape = (128,128,1))\n",
    "x = Conv2D(128,2,strides = 1,padding = 'same',activation = 'relu')(inputs)\n",
    "x = BatchNormalization()(x)\n",
    "x = MaxPooling2D(pool_size = (2,2))(x)\n",
    "x = Dropout(0.55)(x)\n",
    "\n",
    "\n",
    "x = Conv2D(256,2,strides = 1,padding = 'same',activation = 'relu')(x)\n",
    "x = BatchNormalization()(x)\n",
    "x = MaxPooling2D(pool_size = (2,2))(x)\n",
    "x = Dropout(0.55)(x)\n",
    "\n",
    "x = Conv2D(512,2,strides = 1,padding = 'same',activation = 'relu')(x)\n",
    "x = BatchNormalization()(x)\n",
    "x = MaxPooling2D(pool_size = (2,2))(x)\n",
    "x = Dropout(0.55)(x)\n",
    "\n",
    "x = Conv2D(256,5,strides = 2,padding = 'same',activation = 'relu')(x)\n",
    "x = BatchNormalization()(x)\n",
    "x = MaxPooling2D(pool_size = (2,2))(x)\n",
    "x = Dropout(0.55)(x)\n",
    "\n",
    "x = Conv2D(512,5,strides = 3,padding = 'same',activation = 'relu')(x)\n",
    "x = BatchNormalization()(x)\n",
    "x = MaxPooling2D(pool_size = (2,2))(x)\n",
    "x = Dropout(0.55)(x)\n",
    "\n",
    "\n",
    "x = Conv2D(128,2,strides = 1,padding = 'same',activation = 'relu')(x)\n",
    "x = BatchNormalization()(x)\n",
    "x = Flatten()(x)\n",
    "\n",
    "x = Dense(512,activation = 'relu')(x)\n",
    "x = BatchNormalization()(x)\n",
    "x = Dropout(0.45)(x)\n",
    "\n",
    "x = Dense(256,activation = 'linear')(x)\n",
    "x = BatchNormalization()(x)\n",
    "x = Dropout(0.45)(x)\n",
    "\n",
    "\n",
    "\n",
    "outputs = Dense(7,activation = 'softmax')(x)\n",
    "model3 = Model(inputs,outputs)\n",
    "\n",
    "\n"
   ]
  },
  {
   "cell_type": "code",
   "execution_count": 9,
   "metadata": {
    "execution": {
     "iopub.execute_input": "2022-03-05T07:52:30.337677Z",
     "iopub.status.busy": "2022-03-05T07:52:30.336574Z",
     "iopub.status.idle": "2022-03-05T07:52:30.369571Z",
     "shell.execute_reply": "2022-03-05T07:52:30.370470Z",
     "shell.execute_reply.started": "2022-03-05T06:55:36.438903Z"
    },
    "papermill": {
     "duration": 0.062328,
     "end_time": "2022-03-05T07:52:30.370739",
     "exception": false,
     "start_time": "2022-03-05T07:52:30.308411",
     "status": "completed"
    },
    "tags": []
   },
   "outputs": [
    {
     "name": "stdout",
     "output_type": "stream",
     "text": [
      "_________________________________________________________________\n",
      "Layer (type)                 Output Shape              Param #   \n",
      "=================================================================\n",
      "input_1 (InputLayer)         (None, 128, 128, 1)       0         \n",
      "_________________________________________________________________\n",
      "conv2d (Conv2D)              (None, 128, 128, 128)     640       \n",
      "_________________________________________________________________\n",
      "batch_normalization_v1 (Batc (None, 128, 128, 128)     512       \n",
      "_________________________________________________________________\n",
      "max_pooling2d (MaxPooling2D) (None, 64, 64, 128)       0         \n",
      "_________________________________________________________________\n",
      "dropout (Dropout)            (None, 64, 64, 128)       0         \n",
      "_________________________________________________________________\n",
      "conv2d_1 (Conv2D)            (None, 64, 64, 256)       131328    \n",
      "_________________________________________________________________\n",
      "batch_normalization_v1_1 (Ba (None, 64, 64, 256)       1024      \n",
      "_________________________________________________________________\n",
      "max_pooling2d_1 (MaxPooling2 (None, 32, 32, 256)       0         \n",
      "_________________________________________________________________\n",
      "dropout_1 (Dropout)          (None, 32, 32, 256)       0         \n",
      "_________________________________________________________________\n",
      "conv2d_2 (Conv2D)            (None, 32, 32, 512)       524800    \n",
      "_________________________________________________________________\n",
      "batch_normalization_v1_2 (Ba (None, 32, 32, 512)       2048      \n",
      "_________________________________________________________________\n",
      "max_pooling2d_2 (MaxPooling2 (None, 16, 16, 512)       0         \n",
      "_________________________________________________________________\n",
      "dropout_2 (Dropout)          (None, 16, 16, 512)       0         \n",
      "_________________________________________________________________\n",
      "conv2d_3 (Conv2D)            (None, 8, 8, 256)         3277056   \n",
      "_________________________________________________________________\n",
      "batch_normalization_v1_3 (Ba (None, 8, 8, 256)         1024      \n",
      "_________________________________________________________________\n",
      "max_pooling2d_3 (MaxPooling2 (None, 4, 4, 256)         0         \n",
      "_________________________________________________________________\n",
      "dropout_3 (Dropout)          (None, 4, 4, 256)         0         \n",
      "_________________________________________________________________\n",
      "conv2d_4 (Conv2D)            (None, 2, 2, 512)         3277312   \n",
      "_________________________________________________________________\n",
      "batch_normalization_v1_4 (Ba (None, 2, 2, 512)         2048      \n",
      "_________________________________________________________________\n",
      "max_pooling2d_4 (MaxPooling2 (None, 1, 1, 512)         0         \n",
      "_________________________________________________________________\n",
      "dropout_4 (Dropout)          (None, 1, 1, 512)         0         \n",
      "_________________________________________________________________\n",
      "conv2d_5 (Conv2D)            (None, 1, 1, 128)         262272    \n",
      "_________________________________________________________________\n",
      "batch_normalization_v1_5 (Ba (None, 1, 1, 128)         512       \n",
      "_________________________________________________________________\n",
      "flatten (Flatten)            (None, 128)               0         \n",
      "_________________________________________________________________\n",
      "dense (Dense)                (None, 512)               66048     \n",
      "_________________________________________________________________\n",
      "batch_normalization_v1_6 (Ba (None, 512)               2048      \n",
      "_________________________________________________________________\n",
      "dropout_5 (Dropout)          (None, 512)               0         \n",
      "_________________________________________________________________\n",
      "dense_1 (Dense)              (None, 256)               131328    \n",
      "_________________________________________________________________\n",
      "batch_normalization_v1_7 (Ba (None, 256)               1024      \n",
      "_________________________________________________________________\n",
      "dropout_6 (Dropout)          (None, 256)               0         \n",
      "_________________________________________________________________\n",
      "dense_2 (Dense)              (None, 7)                 1799      \n",
      "=================================================================\n",
      "Total params: 7,682,823\n",
      "Trainable params: 7,677,703\n",
      "Non-trainable params: 5,120\n",
      "_________________________________________________________________\n"
     ]
    }
   ],
   "source": [
    "#from keras.callbacks import ModelCheckpoint,EarlyStopping,ReduceLROnPlateau\n",
    "from tensorflow.keras.callbacks import EarlyStopping, ModelCheckpoint,ReduceLROnPlateau\n",
    "checkpoint = ModelCheckpoint(\"model.h5\",monitor = 'val_acc',verbose = 1,save_best_only = True)\n",
    "reduce_learning_rate = ReduceLROnPlateau(monitor = 'val_loss',factor = 0.02,patience = 3)\n",
    "callback = [checkpoint,reduce_learning_rate]\n",
    "optimizer = tensorflow.keras.optimizers.Adam(lr = 0.001,decay = 6e-5)\n",
    "model3.compile(loss = 'categorical_crossentropy',optimizer = optimizer,metrics = ['accuracy'])\n",
    "model3.summary()"
   ]
  },
  {
   "cell_type": "code",
   "execution_count": null,
   "metadata": {
    "execution": {
     "iopub.execute_input": "2022-03-05T07:52:30.410091Z",
     "iopub.status.busy": "2022-03-05T07:52:30.409090Z",
     "iopub.status.idle": "2022-03-05T08:52:08.891523Z",
     "shell.execute_reply": "2022-03-05T08:52:08.892320Z",
     "shell.execute_reply.started": "2022-03-05T06:55:38.040330Z"
    },
    "papermill": {
     "duration": 3578.505021,
     "end_time": "2022-03-05T08:52:08.892585",
     "exception": false,
     "start_time": "2022-03-05T07:52:30.387564",
     "status": "completed"
    },
    "tags": []
   },
   "outputs": [
    {
     "name": "stdout",
     "output_type": "stream",
     "text": [
      "WARNING:tensorflow:From C:\\ProgramData\\Anaconda3\\lib\\site-packages\\tensorflow\\python\\ops\\math_ops.py:3066: to_int32 (from tensorflow.python.ops.math_ops) is deprecated and will be removed in a future version.\n",
      "Instructions for updating:\n",
      "Use tf.cast instead.\n",
      " 17/225 [=>............................] - ETA: 7:11:36 - loss: 2.9645 - acc: 0.1562"
     ]
    }
   ],
   "source": [
    "history4 = model3.fit(train_set,epochs = 1,validation_data = test_set,callbacks = callback)"
   ]
  },
  {
   "cell_type": "code",
   "execution_count": null,
   "metadata": {
    "execution": {
     "iopub.execute_input": "2022-03-05T08:52:15.407504Z",
     "iopub.status.busy": "2022-03-05T08:52:15.406795Z",
     "iopub.status.idle": "2022-03-05T08:52:32.125284Z",
     "shell.execute_reply": "2022-03-05T08:52:32.124684Z",
     "shell.execute_reply.started": "2022-03-05T07:49:46.017372Z"
    },
    "papermill": {
     "duration": 20.494203,
     "end_time": "2022-03-05T08:52:32.125464",
     "exception": false,
     "start_time": "2022-03-05T08:52:11.631261",
     "status": "completed"
    },
    "tags": []
   },
   "outputs": [],
   "source": [
    "model3.evaluate(test_set)"
   ]
  },
  {
   "cell_type": "code",
   "execution_count": null,
   "metadata": {
    "execution": {
     "iopub.execute_input": "2022-03-05T08:52:37.966017Z",
     "iopub.status.busy": "2022-03-05T08:52:37.965138Z",
     "iopub.status.idle": "2022-03-05T08:52:38.426562Z",
     "shell.execute_reply": "2022-03-05T08:52:38.426004Z",
     "shell.execute_reply.started": "2022-03-05T07:50:20.332253Z"
    },
    "papermill": {
     "duration": 3.507347,
     "end_time": "2022-03-05T08:52:38.426731",
     "exception": false,
     "start_time": "2022-03-05T08:52:34.919384",
     "status": "completed"
    },
    "tags": []
   },
   "outputs": [],
   "source": [
    "plot_function(history4)"
   ]
  },
  {
   "cell_type": "code",
   "execution_count": null,
   "metadata": {
    "execution": {
     "iopub.execute_input": "2022-03-05T08:52:43.994722Z",
     "iopub.status.busy": "2022-03-05T08:52:43.983237Z",
     "iopub.status.idle": "2022-03-05T08:52:44.474283Z",
     "shell.execute_reply": "2022-03-05T08:52:44.473615Z",
     "shell.execute_reply.started": "2022-03-05T07:51:40.869773Z"
    },
    "papermill": {
     "duration": 3.314003,
     "end_time": "2022-03-05T08:52:44.474444",
     "exception": false,
     "start_time": "2022-03-05T08:52:41.160441",
     "status": "completed"
    },
    "tags": []
   },
   "outputs": [],
   "source": [
    "model3.save('Model.h5')"
   ]
  },
  {
   "cell_type": "code",
   "execution_count": null,
   "metadata": {
    "papermill": {
     "duration": 2.838053,
     "end_time": "2022-03-05T08:52:50.978600",
     "exception": false,
     "start_time": "2022-03-05T08:52:48.140547",
     "status": "completed"
    },
    "tags": []
   },
   "outputs": [],
   "source": []
  }
 ],
 "metadata": {
  "kernelspec": {
   "display_name": "Python 3",
   "language": "python",
   "name": "python3"
  },
  "language_info": {
   "codemirror_mode": {
    "name": "ipython",
    "version": 3
   },
   "file_extension": ".py",
   "mimetype": "text/x-python",
   "name": "python",
   "nbconvert_exporter": "python",
   "pygments_lexer": "ipython3",
   "version": "3.6.5"
  },
  "papermill": {
   "default_parameters": {},
   "duration": 3661.1438,
   "end_time": "2022-03-05T08:52:57.041012",
   "environment_variables": {},
   "exception": null,
   "input_path": "__notebook__.ipynb",
   "output_path": "__notebook__.ipynb",
   "parameters": {},
   "start_time": "2022-03-05T07:51:55.897212",
   "version": "2.3.3"
  }
 },
 "nbformat": 4,
 "nbformat_minor": 5
}
